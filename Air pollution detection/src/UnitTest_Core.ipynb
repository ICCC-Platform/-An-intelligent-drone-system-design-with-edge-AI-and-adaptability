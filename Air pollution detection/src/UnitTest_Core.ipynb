{
 "cells": [
  {
   "cell_type": "markdown",
   "metadata": {},
   "source": [
    "# KV260 UnitTest Core\n",
    "env build \n",
    "`pip3 install -U pip opencv-python tqdm` \n",
    "`sudo dnf install packagegroup-kv260-aibox-reid.noarch`  \n",
    "`sudo dnf install kv260-dpu-benchmark.k26_kv` \n",
    "`sudo xmutil unloadapp kv260-dpu-benchmark` \n",
    "`sudo xmutil loadapp kv260-dpu-benchmark` "
   ]
  },
  {
   "cell_type": "markdown",
   "metadata": {},
   "source": [
    "**Image Read & show**"
   ]
  },
  {
   "cell_type": "code",
   "execution_count": null,
   "metadata": {},
   "outputs": [],
   "source": [
    "#input_path = <image location>\n",
    "input_path = \"\"\n",
    "import os\n",
    "import cv2\n",
    "import numpy as np\n",
    "from matplotlib import pyplot as plt\n",
    "import xir\n",
    "import vart\n",
    "\n",
    "if os.path.isfile(input_path):\n",
    "    print(\"file exist\")\n",
    "    image = cv2.imread(input_path)\n",
    "    image_resize = cv2.resize(image, (224, 224), interpolation=cv2.INTER_AREA)\n",
    "    im_plt = cv2.cvtColor(image_resize, cv2.COLOR_BGR2RGB)\n",
    "    plt.imshow(im_plt)\n",
    "    plt.show()\n",
    "else:\n",
    "  print(\"file not exist\")"
   ]
  },
  {
   "cell_type": "markdown",
   "metadata": {},
   "source": [
    "**Camera Read & show**"
   ]
  },
  {
   "cell_type": "code",
   "execution_count": null,
   "metadata": {},
   "outputs": [],
   "source": [
    "from IPython.display import clear_output, Image, display, HTML\n",
    "import time\n",
    "import cv2\n",
    "import base64\n",
    "import threading\n",
    "\n",
    "current_time = 0\n",
    "exit = False\n",
    "# 图像处理函数\n",
    "def processImg(img):\n",
    "    # 画出一个框\n",
    "    #cv2.rectangle(img, (500, 300), (800, 400), (0, 0, 255), 5, 1, 0)\n",
    "    # 上下翻转\n",
    "    # img= cv2.flip(img, 0)\n",
    "\n",
    "    # 显示FPS\n",
    "    global current_time\n",
    "    if current_time == 0:\n",
    "        current_time = time.time()\n",
    "    else:\n",
    "        last_time = current_time\n",
    "        current_time = time.time()\n",
    "        fps = 1. / (current_time - last_time)\n",
    "        text = \"FPS: %d\" % int(fps)\n",
    "        cv2.putText(img, text , (0,100), cv2.FONT_HERSHEY_TRIPLEX, 3.65, (255, 0, 0), 2)\n",
    "    \n",
    "    return img\n",
    "\n",
    "def arrayShow(img):\n",
    "    _,ret = cv2.imencode('.jpg', img)\n",
    "    return Image(data=ret)\n",
    "\n",
    "\n",
    "video = cv2.VideoCapture(0)\n",
    "\n",
    "def startCam():\n",
    "    while(True):\n",
    "        try:\n",
    "            clear_output(wait=True)\n",
    "            ret, frame = video.read()\n",
    "            if not ret:\n",
    "                break\n",
    "            lines, columns, _ = frame.shape\n",
    "            frame = processImg(frame)\n",
    "            #frame = cv2.resize(frame, (int(columns / 2), int(lines / 2)))\n",
    "\n",
    "            img = arrayShow(frame)\n",
    "            display(img)\n",
    "            # 控制帧率\n",
    "            time.sleep(0.01)\n",
    "            if exit is True:\n",
    "                video.release()\n",
    "                clear_output(wait=True)\n",
    "                print(\"stop\")\n",
    "                break\n",
    "        except KeyboardInterrupt:\n",
    "            video.release()\n",
    "\n",
    "t = threading.Thread(target=startCam, args=()) # \n",
    "print(\"start\")\n",
    "t.start() # 開始\n",
    "#t.join() # 等待結束"
   ]
  },
  {
   "cell_type": "code",
   "execution_count": null,
   "metadata": {},
   "outputs": [],
   "source": [
    "#leave code\n",
    "exit = True"
   ]
  },
  {
   "cell_type": "markdown",
   "metadata": {},
   "source": [
    "**Read XModel**"
   ]
  },
  {
   "cell_type": "code",
   "execution_count": 13,
   "metadata": {},
   "outputs": [],
   "source": [
    "import numpy as np\n",
    "from matplotlib import pyplot as plt\n",
    "import xir\n",
    "import vart\n",
    "import time \n",
    "\n",
    "class coreDPU:\n",
    "    def __init__(self,model_path):\n",
    "        g = xir.Graph.deserialize(model_path)\n",
    "        sub = []\n",
    "        root = g.get_root_subgraph()\n",
    "\n",
    "        child_subgraph = root.toposort_child_subgraph()\n",
    "        sub = [s for s in child_subgraph\n",
    "              if s.has_attr(\"device\") and s.get_attr(\"device\").upper() == \"DPU\"]\n",
    "        self.model = sub\n",
    "        self.__createDPU()\n",
    "        \n",
    "    def __createDPU(self):\n",
    "        self.__dpu = vart.Runner.create_runner(self.model[0],\"run\")\n",
    "        input_tensors = self.__dpu.get_input_tensors() #得模型DPU輸入層\n",
    "        output_tensors = self.__dpu.get_output_tensors() #得模型運算DPU最終層\n",
    "        self.__input_dims = tuple(input_tensors[0].dims) #(1,224,224,3)\n",
    "        self.__output_dims = tuple(output_tensors[0].dims) #(1,6)\n",
    "    \n",
    "    def runDPU(self,img) ->int:\n",
    "        input_data = []\n",
    "        output_data = []\n",
    "        input_data = [np.empty(self.__input_dims, dtype =np.float32, order = \"C\")]\n",
    "        output_data = [np.empty(self.__output_dims, dtype = np.float32, order = \"C\")]\n",
    "        dpu_image = input_data[0]\n",
    "        dpu_image[0,...] =  img #圖進DPU的BUFFER,\n",
    "\n",
    "        self.__dpu.execute_async(dpu_image,output_data)\n",
    "        ans = np.argmax(output_data[0]) +1#分類\n",
    "        #print(output_data[0])\n",
    "        #print('AQI_LEVEL:' + str(ans+1))\n",
    "        return ans"
   ]
  },
  {
   "cell_type": "code",
   "execution_count": null,
   "metadata": {},
   "outputs": [],
   "source": [
    "##run DPU Demo\n",
    "import cv2\n",
    "\n",
    "image_path = \"/home/petalinux/dev/testimg/3_201410301130.jpg\"\n",
    "model_path = \"/home/petalinux/dev/KV260_4096.xmodel\"\n",
    "\n",
    "try:\n",
    "    image = cv2.imread(image_path)\n",
    "    #print(image)\n",
    "    image_resize = cv2.resize(image, (224, 224), interpolation=cv2.INTER_AREA)\n",
    "    im_plt = cv2.cvtColor(image_resize, cv2.COLOR_BGR2RGB)\n",
    "    plt.imshow(im_plt)\n",
    "    plt.show()\n",
    "except Exception as a:\n",
    "    print(a)\n",
    "time1 = time.time()\n",
    "DPU_Class = coreDPU(model_path)\n",
    "time2 = time.time()\n",
    "level = DPU_Class.runDPU(image_resize)\n",
    "time3 = time.time()\n",
    "level = DPU_Class.runDPU(image_resize)\n",
    "print(time2-time1)\n",
    "print(time3-time2)\n",
    "print('AQI_LEVEL:',level)"
   ]
  },
  {
   "cell_type": "markdown",
   "metadata": {},
   "source": [
    "**運行模型測試集**\n",
    "需要運行Read Xmodel Class\n",
    "資料集須按照Label分類放置個資料夾\n",
    "image_dir\n",
    "    -1\n",
    "    -2\n",
    "    .\n",
    "    .\n",
    "    -n"
   ]
  },
  {
   "cell_type": "code",
   "execution_count": 16,
   "metadata": {},
   "outputs": [
    {
     "name": "stdout",
     "output_type": "stream",
     "text": [
      "\n"
     ]
    },
    {
     "data": {
      "application/vnd.jupyter.widget-view+json": {
       "model_id": "c496f1d326c742db99fde1ddc397a43f",
       "version_major": 2,
       "version_minor": 0
      },
      "text/plain": [
       "Image_Folder_1 :   0%|          | 0/246 [00:00<?, ?it/s]"
      ]
     },
     "metadata": {},
     "output_type": "display_data"
    },
    {
     "name": "stdout",
     "output_type": "stream",
     "text": [
      "\n"
     ]
    },
    {
     "data": {
      "application/vnd.jupyter.widget-view+json": {
       "model_id": "1fbedeec98a64f72b06a230dfe28a2b0",
       "version_major": 2,
       "version_minor": 0
      },
      "text/plain": [
       "Image_Folder_2 :   0%|          | 0/252 [00:00<?, ?it/s]"
      ]
     },
     "metadata": {},
     "output_type": "display_data"
    },
    {
     "name": "stdout",
     "output_type": "stream",
     "text": [
      "\n"
     ]
    },
    {
     "data": {
      "application/vnd.jupyter.widget-view+json": {
       "model_id": "74c3fc7dcb434ccdb48cda6294ec39e4",
       "version_major": 2,
       "version_minor": 0
      },
      "text/plain": [
       "Image_Folder_3 :   0%|          | 0/252 [00:00<?, ?it/s]"
      ]
     },
     "metadata": {},
     "output_type": "display_data"
    },
    {
     "name": "stdout",
     "output_type": "stream",
     "text": [
      "\n"
     ]
    },
    {
     "data": {
      "application/vnd.jupyter.widget-view+json": {
       "model_id": "cf4e396521644a7d92ea2727fac5686f",
       "version_major": 2,
       "version_minor": 0
      },
      "text/plain": [
       "Image_Folder_4 :   0%|          | 0/245 [00:00<?, ?it/s]"
      ]
     },
     "metadata": {},
     "output_type": "display_data"
    },
    {
     "name": "stdout",
     "output_type": "stream",
     "text": [
      "\n"
     ]
    },
    {
     "data": {
      "application/vnd.jupyter.widget-view+json": {
       "model_id": "f103702a7702414882118c7ab3cbebaf",
       "version_major": 2,
       "version_minor": 0
      },
      "text/plain": [
       "Image_Folder_5 :   0%|          | 0/30 [00:00<?, ?it/s]"
      ]
     },
     "metadata": {},
     "output_type": "display_data"
    },
    {
     "name": "stdout",
     "output_type": "stream",
     "text": [
      "\n"
     ]
    },
    {
     "data": {
      "application/vnd.jupyter.widget-view+json": {
       "model_id": "29716c0bb0674888a79e4c8f40623e93",
       "version_major": 2,
       "version_minor": 0
      },
      "text/plain": [
       "Image_Folder_6 :   0%|          | 0/21 [00:00<?, ?it/s]"
      ]
     },
     "metadata": {},
     "output_type": "display_data"
    },
    {
     "name": "stdout",
     "output_type": "stream",
     "text": [
      "[[235  99   0   0   0   0]\n",
      " [ 11 105  43   9   1   7]\n",
      " [  0  19  62   4   3   0]\n",
      " [  0  27 147 231   7   0]\n",
      " [  0   2   0   1  16   1]\n",
      " [  0   0   0   0   3  13]]\n",
      "0.6328871892925431\n",
      "['70.36%', '59.66%', '70.45%', '56.07%', '80.00%', '81.25%']\n",
      "['95.53%', '41.67%', '24.60%', '94.29%', '53.33%', '61.90%']\n"
     ]
    }
   ],
   "source": [
    "import cv2\n",
    "import os\n",
    "import numpy as np\n",
    "from IPython.display import clear_output\n",
    "from tqdm.notebook import tqdm\n",
    "#if use py,import the following line\n",
    "#from tqdm import tqdm, trange\n",
    "image_path = \"/home/petalinux/dev/testimg/\"\n",
    "model_path = \"/home/petalinux/dev/KV260_4096.xmodel\"\n",
    "\n",
    "table = np.zeros((6,6),dtype=int)\n",
    "\n",
    "DPU_Class = coreDPU(model_path)\n",
    "\n",
    "for i in range(1,7):\n",
    "    print()\n",
    "\n",
    "    image_i_folder = image_path+\"{num}/\".format(num=i)\n",
    "    for filename in tqdm(os.listdir(image_i_folder),desc=\"Image_Folder_{} \".format(i),ascii=\"#\"):\n",
    "        image_location = image_i_folder + filename\n",
    "        image = cv2.imread(image_location)\n",
    "        image_resize = cv2.resize(image, (224, 224), interpolation=cv2.INTER_AREA)\n",
    "        level = DPU_Class.runDPU(image_resize) - 1\n",
    "        table[level][i-1] +=1\n",
    "\n",
    "print(table)\n",
    "\n",
    "me_class = model_Evaluate(table)\n",
    "print(me_class.getAccuracy())\n",
    "print(me_class.getPrecision())\n",
    "print(me_class.getRecall())\n",
    "\n"
   ]
  },
  {
   "cell_type": "markdown",
   "metadata": {},
   "source": [
    "**記錄結果**\n",
    "rol_sum = 機器辨識為該類別的結果\n",
    "col_sum = 該類別資料集的總比數"
   ]
  },
  {
   "cell_type": "code",
   "execution_count": 14,
   "metadata": {},
   "outputs": [],
   "source": [
    "import pandas as pd\n",
    "class model_Evaluate:\n",
    "    def __init__(self,table):\n",
    "        df = pd.DataFrame(table)\n",
    "        self.__length = len(df)\n",
    "        df['row_sum']=df.apply(lambda x: x.sum(),axis=1)\n",
    "        df.loc['col_sum']=df.apply(lambda x: x.sum(),axis=0)\n",
    "        self.__df = df \n",
    "        \n",
    "    def getAccuracy(self):\n",
    "        Accuracy = 0\n",
    "        TP_TN = 0 #所有類別正確數之合\n",
    "        TP_TN_FP_FN = 0 #圖片總數\n",
    "\n",
    "        for i in range(self.__length):\n",
    "            TP_TN += self.__df[i][i]\n",
    "\n",
    "        TP_TN_FP_FN = self.__df['row_sum'].values[-1]\n",
    "        Accuracy = (TP_TN/TP_TN_FP_FN)\n",
    "        return Accuracy\n",
    "    def getPrecision(self):\n",
    "        Precision = np.zeros((self.__length,),dtype=float)\n",
    "\n",
    "        for i in range(self.__length):\n",
    "            TP = self.__df[i][i]\n",
    "            TP_FP = self.__df['row_sum'].values[i]\n",
    "            Precision[i] = TP/TP_FP\n",
    "        Precision_df = pd.DataFrame(Precision,columns = ['Precision'])\n",
    "        Precision_df = Precision_df.applymap(lambda x: '%.2f%%' % (x*100))\n",
    "        return Precision_df['Precision'].tolist()\n",
    "    \n",
    "    def getRecall(self):\n",
    "        Recall = np.zeros((self.__length,),dtype=float)\n",
    "        for i in range(self.__length):\n",
    "            TP = self.__df[i][i]\n",
    "            TP_FN = self.__df.iloc[-1].values[i]\n",
    "            Recall[i] =  TP/TP_FN\n",
    "        Recall_df = pd.DataFrame(Recall,columns = ['Recall'])\n",
    "        Recall_df = Recall_df.applymap(lambda x: '%.2f%%' % (x*100))\n",
    "        return Recall_df['Recall'].tolist()\n",
    "\n"
   ]
  },
  {
   "cell_type": "code",
   "execution_count": null,
   "metadata": {},
   "outputs": [],
   "source": [
    "df = pd.DataFrame(table)\n",
    "df['row_sum']=df.apply(lambda x: x.sum(),axis=1)\n",
    "df.loc['col_sum']=df.apply(lambda x: x.sum(),axis=0)\n",
    "print(df)"
   ]
  },
  {
   "cell_type": "markdown",
   "metadata": {},
   "source": [
    "**模型準確率**\n",
    "所有類別分類正確之合 / 所有類別圖片總數"
   ]
  },
  {
   "cell_type": "code",
   "execution_count": null,
   "metadata": {},
   "outputs": [],
   "source": [
    "##模型準確率\n",
    "Accuracy = 0\n",
    "TP_TN = 0 #所有類別正確數之合\n",
    "TP_TN_FP_FN = 0 #圖片總數\n",
    "\n",
    "for i in range(6):\n",
    "    TP_TN += df[i][i]\n",
    "    \n",
    "TP_TN_FP_FN = df['row_sum'].values[-1]\n",
    "Accuracy = (TP_TN/TP_TN_FP_FN)\n",
    "print(\"Accuracy: {:2.3%} \".format(Accuracy))"
   ]
  },
  {
   "cell_type": "markdown",
   "metadata": {},
   "source": [
    "**模型精確率**\n",
    "該類別分類正確 / 該類別模型辨識總數"
   ]
  },
  {
   "cell_type": "code",
   "execution_count": null,
   "metadata": {},
   "outputs": [],
   "source": [
    "#模型精確率\n",
    "Precision = np.zeros((6,),dtype=float)\n",
    "\n",
    "for i in range(6):\n",
    "    TP = df[i][i]\n",
    "    TP_FP = df['row_sum'].values[i]\n",
    "    Precision[i] = TP/TP_FP\n",
    "Precision_df = pd.DataFrame(Precision,columns = ['Precision'])\n",
    "Precision_df = Precision_df.applymap(lambda x: '%.2f%%' % (x*100))\n",
    "#print(Precision_df)\n"
   ]
  },
  {
   "cell_type": "markdown",
   "metadata": {},
   "source": [
    "**模型召回率**\n",
    "該類別分類正確 / 該類別圖片總數"
   ]
  },
  {
   "cell_type": "code",
   "execution_count": null,
   "metadata": {},
   "outputs": [],
   "source": [
    "#模型召回率\n",
    "Recall = np.zeros((6,),dtype=float)\n",
    "for i in range(6):\n",
    "    TP = df[i][i]\n",
    "    TP_FN = df.iloc[-1].values[i]\n",
    "    Recall[i] =  TP/TP_FN\n",
    "Recall_df = pd.DataFrame(Recall,columns = ['Recall'])\n",
    "Recall_df = Recall_df.applymap(lambda x: '%.2f%%' % (x*100))\n",
    "#print(Recall_df)"
   ]
  },
  {
   "cell_type": "code",
   "execution_count": null,
   "metadata": {},
   "outputs": [],
   "source": [
    "model_PR = pd.merge(Precision_df,Recall_df, right_index = True,left_index = True)\n",
    "print(model_PR)"
   ]
  },
  {
   "cell_type": "code",
   "execution_count": null,
   "metadata": {},
   "outputs": [],
   "source": []
  },
  {
   "cell_type": "code",
   "execution_count": null,
   "metadata": {},
   "outputs": [],
   "source": []
  }
 ],
 "metadata": {
  "kernelspec": {
   "display_name": "Python 3",
   "language": "python",
   "name": "python3"
  },
  "language_info": {
   "codemirror_mode": {
    "name": "ipython",
    "version": 3
   },
   "file_extension": ".py",
   "mimetype": "text/x-python",
   "name": "python",
   "nbconvert_exporter": "python",
   "pygments_lexer": "ipython3",
   "version": "3.8.5"
  }
 },
 "nbformat": 4,
 "nbformat_minor": 4
}
